{
 "cells": [
  {
   "cell_type": "code",
   "execution_count": 1,
   "metadata": {},
   "outputs": [],
   "source": [
    "\n",
    "import numpy as np\n",
    "import pandas as pd\n",
    "import matplotlib.pyplot as plt\n",
    "import seaborn as sns\n",
    "import glob"
   ]
  },
  {
   "cell_type": "code",
   "execution_count": 71,
   "metadata": {},
   "outputs": [],
   "source": [
    "p=\".\\\\trajectories\\\\KnotTrajectory_6Sizes.csv\""
   ]
  },
  {
   "cell_type": "code",
   "execution_count": 72,
   "metadata": {},
   "outputs": [
    {
     "data": {
      "text/html": [
       "<div>\n",
       "<style scoped>\n",
       "    .dataframe tbody tr th:only-of-type {\n",
       "        vertical-align: middle;\n",
       "    }\n",
       "\n",
       "    .dataframe tbody tr th {\n",
       "        vertical-align: top;\n",
       "    }\n",
       "\n",
       "    .dataframe thead th {\n",
       "        text-align: right;\n",
       "    }\n",
       "</style>\n",
       "<table border=\"1\" class=\"dataframe\">\n",
       "  <thead>\n",
       "    <tr style=\"text-align: right;\">\n",
       "      <th></th>\n",
       "      <th>episode</th>\n",
       "      <th>x</th>\n",
       "      <th>y</th>\n",
       "      <th>size</th>\n",
       "      <th>dot</th>\n",
       "      <th>bg</th>\n",
       "    </tr>\n",
       "  </thead>\n",
       "  <tbody>\n",
       "    <tr>\n",
       "      <th>0</th>\n",
       "      <td>knot_04</td>\n",
       "      <td>299.807048</td>\n",
       "      <td>188.678908</td>\n",
       "      <td>4</td>\n",
       "      <td>1.0</td>\n",
       "      <td>0.0</td>\n",
       "    </tr>\n",
       "    <tr>\n",
       "      <th>1</th>\n",
       "      <td>knot_04</td>\n",
       "      <td>299.807048</td>\n",
       "      <td>188.678908</td>\n",
       "      <td>4</td>\n",
       "      <td>1.0</td>\n",
       "      <td>0.0</td>\n",
       "    </tr>\n",
       "    <tr>\n",
       "      <th>2</th>\n",
       "      <td>knot_04</td>\n",
       "      <td>299.807048</td>\n",
       "      <td>188.678908</td>\n",
       "      <td>4</td>\n",
       "      <td>1.0</td>\n",
       "      <td>0.0</td>\n",
       "    </tr>\n",
       "    <tr>\n",
       "      <th>3</th>\n",
       "      <td>knot_04</td>\n",
       "      <td>299.807048</td>\n",
       "      <td>188.678908</td>\n",
       "      <td>4</td>\n",
       "      <td>1.0</td>\n",
       "      <td>0.0</td>\n",
       "    </tr>\n",
       "    <tr>\n",
       "      <th>4</th>\n",
       "      <td>knot_04</td>\n",
       "      <td>299.807048</td>\n",
       "      <td>188.678908</td>\n",
       "      <td>4</td>\n",
       "      <td>1.0</td>\n",
       "      <td>0.0</td>\n",
       "    </tr>\n",
       "  </tbody>\n",
       "</table>\n",
       "</div>"
      ],
      "text/plain": [
       "   episode           x           y  size  dot   bg\n",
       "0  knot_04  299.807048  188.678908     4  1.0  0.0\n",
       "1  knot_04  299.807048  188.678908     4  1.0  0.0\n",
       "2  knot_04  299.807048  188.678908     4  1.0  0.0\n",
       "3  knot_04  299.807048  188.678908     4  1.0  0.0\n",
       "4  knot_04  299.807048  188.678908     4  1.0  0.0"
      ]
     },
     "execution_count": 72,
     "metadata": {},
     "output_type": "execute_result"
    }
   ],
   "source": [
    "df=pd.read_csv(p,header=None,names=['episode','x','y','size','dot','bg'])\n",
    "df.head()"
   ]
  },
  {
   "cell_type": "code",
   "execution_count": 75,
   "metadata": {},
   "outputs": [
    {
     "data": {
      "text/plain": [
       "<matplotlib.collections.PathCollection at 0x1e3877a2e08>"
      ]
     },
     "execution_count": 75,
     "metadata": {},
     "output_type": "execute_result"
    },
    {
     "data": {
      "image/png": "[encoded data removed]",
      "text/plain": [
       "<Figure size 432x288 with 1 Axes>"
      ]
     },
     "metadata": {
      "needs_background": "light"
     },
     "output_type": "display_data"
    }
   ],
   "source": [
    "plt.scatter(df.x,df.y)\n",
    "r=190\n",
    "t=np.linspace(0,2*np.pi,1000)\n",
    "plt.scatter(r*np.cos(t)+190,r*np.sin(t)+190)\n",
    "\n"
   ]
  },
  {
   "cell_type": "code",
   "execution_count": 13,
   "metadata": {},
   "outputs": [
    {
     "name": "stdout",
     "output_type": "stream",
     "text": [
      "80.0552207362 299.87775261900003 219.82253188280004\n"
     ]
    }
   ],
   "source": [
    "print(df.x.min(), df.x.max(),np.ptp(df.x))"
   ]
  },
  {
   "cell_type": "code",
   "execution_count": 104,
   "metadata": {},
   "outputs": [
    {
     "name": "stdout",
     "output_type": "stream",
     "text": [
      "2.923076923076923\n"
     ]
    }
   ],
   "source": [
    "radius=190\n",
    "pxPmm=190/65\n",
    "print(pxPmm)"
   ]
  },
  {
   "cell_type": "code",
   "execution_count": 80,
   "metadata": {},
   "outputs": [
    {
     "data": {
      "text/plain": [
       "<matplotlib.collections.PathCollection at 0x1e38c853588>"
      ]
     },
     "execution_count": 80,
     "metadata": {},
     "output_type": "execute_result"
    },
    {
     "data": {
      "image/png": "[encoded data removed]",
      "text/plain": [
       "<Figure size 432x288 with 1 Axes>"
      ]
     },
     "metadata": {
      "needs_background": "light"
     },
     "output_type": "display_data"
    }
   ],
   "source": [
    "df=pd.read_csv(p,header=None,names=['episode','x','y','size','dot','bg'])\n",
    "df.x=(df.x-df.x.min()-np.ptp(df.x)/2)/pxPmm\n",
    "df.y=(df.y-df.y.min()-np.ptp(df.y)/2)/pxPmm\n",
    "plt.scatter(df.x,df.y)"
   ]
  },
  {
   "cell_type": "code",
   "execution_count": 16,
   "metadata": {},
   "outputs": [],
   "source": [
    "#pNew=\".\\\\trajectories\\\\KnotTrajectory_6Sizes_abs.csv\"\n",
    "#df.to_csv(pNew,index=None,header=None)"
   ]
  },
  {
   "cell_type": "code",
   "execution_count": null,
   "metadata": {},
   "outputs": [],
   "source": []
  },
  {
   "cell_type": "code",
   "execution_count": null,
   "metadata": {},
   "outputs": [],
   "source": []
  },
  {
   "cell_type": "code",
   "execution_count": 84,
   "metadata": {},
   "outputs": [],
   "source": [
    "p=\"E:\\\\00_bonsai_ffmpeg_out\\\\trajectories\\\\trajectories_35wellPlate_FullShoalGrateLoom.csv\""
   ]
  },
  {
   "cell_type": "code",
   "execution_count": 85,
   "metadata": {},
   "outputs": [],
   "source": [
    "df=pd.read_csv(p,header=None,names=['episode','x','y','size','dot','bg'],nrows=18000)"
   ]
  },
  {
   "cell_type": "code",
   "execution_count": 86,
   "metadata": {},
   "outputs": [
    {
     "data": {
      "text/plain": [
       "<matplotlib.collections.PathCollection at 0x1e38c99b4c8>"
      ]
     },
     "execution_count": 86,
     "metadata": {},
     "output_type": "execute_result"
    },
    {
     "data": {
      "image/png": "[encoded data removed]",
      "text/plain": [
       "<Figure size 432x288 with 1 Axes>"
      ]
     },
     "metadata": {
      "needs_background": "light"
     },
     "output_type": "display_data"
    }
   ],
   "source": [
    "plt.scatter(df.x,df.y)"
   ]
  },
  {
   "cell_type": "code",
   "execution_count": 87,
   "metadata": {},
   "outputs": [
    {
     "name": "stdout",
     "output_type": "stream",
     "text": [
      "60.00164557231211 200.0 139.9983544276879\n"
     ]
    }
   ],
   "source": [
    "print(df.x.min(), df.x.max(),np.ptp(df.x))"
   ]
  },
  {
   "cell_type": "code",
   "execution_count": 91,
   "metadata": {},
   "outputs": [
    {
     "data": {
      "text/plain": [
       "<matplotlib.collections.PathCollection at 0x1e38cc41d08>"
      ]
     },
     "execution_count": 91,
     "metadata": {},
     "output_type": "execute_result"
    },
    {
     "data": {
      "image/png": "[encoded data removed]",
      "text/plain": [
       "<Figure size 432x288 with 1 Axes>"
      ]
     },
     "metadata": {
      "needs_background": "light"
     },
     "output_type": "display_data"
    }
   ],
   "source": [
    "df=pd.read_csv(p,header=None,names=['episode','x','y','size','dot','bg'],nrows=18000)\n",
    "df.x=(df.x-df.x.min()-np.ptp(df.x)/2)/pxPmm\n",
    "df.y=(df.y-df.y.min()-np.ptp(df.y)/2)/pxPmm\n",
    "plt.scatter(df.x,df.y)"
   ]
  },
  {
   "cell_type": "code",
   "execution_count": 105,
   "metadata": {},
   "outputs": [
    {
     "data": {
      "image/png": "[encoded data removed]",
      "text/plain": [
       "<Figure size 432x288 with 1 Axes>"
      ]
     },
     "metadata": {
      "needs_background": "light"
     },
     "output_type": "display_data"
    }
   ],
   "source": [
    "df=pd.read_csv(p,header=None,names=['episode','x','y','size','dot','bg'],nrows=18000)\n",
    "\n",
    "minix=df.x.min()\n",
    "miniy=df.y.min()\n",
    "r=35\n",
    "t=np.linspace(0,2*np.pi,1000)\n",
    "plt.scatter(r*np.cos(t),r*np.sin(t))\n",
    "\n",
    "\n",
    "df.x=(df.x-minix-np.ptp(df.x)/2)/pxPmm\n",
    "df.y=(df.y-miniy-np.ptp(df.y)/2)/pxPmm\n",
    "plt.scatter(df.x,df.y)\n",
    "\n",
    "\n",
    "\n",
    "pNew=\"E:\\\\00_bonsai_ffmpeg_out\\\\trajectories\\\\trajectories_35WellPlate_3Stim_BoutContNone_abs.csv\"\n",
    "df.to_csv(pNew,index=None,header=None)"
   ]
  },
  {
   "cell_type": "code",
   "execution_count": 106,
   "metadata": {},
   "outputs": [
    {
     "data": {
      "text/html": [
       "<div>\n",
       "<style scoped>\n",
       "    .dataframe tbody tr th:only-of-type {\n",
       "        vertical-align: middle;\n",
       "    }\n",
       "\n",
       "    .dataframe tbody tr th {\n",
       "        vertical-align: top;\n",
       "    }\n",
       "\n",
       "    .dataframe thead th {\n",
       "        text-align: right;\n",
       "    }\n",
       "</style>\n",
       "<table border=\"1\" class=\"dataframe\">\n",
       "  <thead>\n",
       "    <tr style=\"text-align: right;\">\n",
       "      <th></th>\n",
       "      <th>episode</th>\n",
       "      <th>x</th>\n",
       "      <th>y</th>\n",
       "      <th>size</th>\n",
       "      <th>dot</th>\n",
       "      <th>bg</th>\n",
       "    </tr>\n",
       "  </thead>\n",
       "  <tbody>\n",
       "    <tr>\n",
       "      <th>0</th>\n",
       "      <td>01k01f</td>\n",
       "      <td>23.947087</td>\n",
       "      <td>-0.000212</td>\n",
       "      <td>4.0</td>\n",
       "      <td>1.0</td>\n",
       "      <td>0.0</td>\n",
       "    </tr>\n",
       "    <tr>\n",
       "      <th>1</th>\n",
       "      <td>01k01f</td>\n",
       "      <td>23.943163</td>\n",
       "      <td>0.121495</td>\n",
       "      <td>4.0</td>\n",
       "      <td>1.0</td>\n",
       "      <td>0.0</td>\n",
       "    </tr>\n",
       "    <tr>\n",
       "      <th>2</th>\n",
       "      <td>01k01f</td>\n",
       "      <td>23.939238</td>\n",
       "      <td>0.243203</td>\n",
       "      <td>4.0</td>\n",
       "      <td>1.0</td>\n",
       "      <td>0.0</td>\n",
       "    </tr>\n",
       "    <tr>\n",
       "      <th>3</th>\n",
       "      <td>01k01f</td>\n",
       "      <td>23.935314</td>\n",
       "      <td>0.364910</td>\n",
       "      <td>4.0</td>\n",
       "      <td>1.0</td>\n",
       "      <td>0.0</td>\n",
       "    </tr>\n",
       "    <tr>\n",
       "      <th>4</th>\n",
       "      <td>01k01f</td>\n",
       "      <td>23.931390</td>\n",
       "      <td>0.486618</td>\n",
       "      <td>4.0</td>\n",
       "      <td>1.0</td>\n",
       "      <td>0.0</td>\n",
       "    </tr>\n",
       "  </tbody>\n",
       "</table>\n",
       "</div>"
      ],
      "text/plain": [
       "  episode          x         y  size  dot   bg\n",
       "0  01k01f  23.947087 -0.000212   4.0  1.0  0.0\n",
       "1  01k01f  23.943163  0.121495   4.0  1.0  0.0\n",
       "2  01k01f  23.939238  0.243203   4.0  1.0  0.0\n",
       "3  01k01f  23.935314  0.364910   4.0  1.0  0.0\n",
       "4  01k01f  23.931390  0.486618   4.0  1.0  0.0"
      ]
     },
     "execution_count": 106,
     "metadata": {},
     "output_type": "execute_result"
    }
   ],
   "source": [
    "df.head()"
   ]
  },
  {
   "cell_type": "code",
   "execution_count": 111,
   "metadata": {},
   "outputs": [
    {
     "data": {
      "text/plain": [
       "['01k01f',\n",
       " '23.94708694',\n",
       " '-0.000211913',\n",
       " '4',\n",
       " '1',\n",
       " '0',\n",
       " '02k20f',\n",
       " '23.85806041',\n",
       " '1.152860921',\n",
       " '4',\n",
       " '1',\n",
       " '0',\n",
       " '02k20f',\n",
       " '23.85806041',\n",
       " '1.152860921',\n",
       " '0',\n",
       " '1',\n",
       " '0']"
      ]
     },
     "execution_count": 111,
     "metadata": {},
     "output_type": "execute_result"
    }
   ],
   "source": [
    "tmp='01k01f,23.94708694,-0.000211913,4,1,0,02k20f,23.85806041,1.152860921,4,1,0,02k20f,23.85806041,1.152860921,0,1,0'\n",
    "tmp.split(',')"
   ]
  },
  {
   "cell_type": "code",
   "execution_count": null,
   "metadata": {},
   "outputs": [],
   "source": [
    "episodeNames=np.array(['CLfull004Lf','CLfull004Rf','CLfull000Lc','CLfull000Rc','CLfull004Lc','CLfull004Rc'])\n",
    "epiLen=300\n",
    "dist=18\n",
    "\n",
    "xAll=np.repeat(dist,epiLen)\n",
    "\n",
    "df=pd.DataFrame()\n",
    "epiAll=np.repeat(episodeNames,epiLen)\n",
    "df['episode']=epiAll\n",
    "df['x']=-dist\n",
    "df['y']=0.0\n",
    "ix=[x[-2]=='R' for x in df.episode.values]\n",
    "df.loc[ix,'x']*=-1\n",
    "\n",
    "df['size']=4\n",
    "ix=[x[-3]=='0' for x in df.episode.values]\n",
    "df.loc[ix,'size']=0\n",
    "df['frame']=np.tile(np.arange(epiLen),6)\n",
    "\n",
    "ix=[x[-1]=='f' for x in df.episode.values]\n",
    "ix2=df.frame%20>4\n",
    "\n",
    "df.loc[(ix&ix2),'size']=0\n",
    "\n",
    "df.head(30)\n",
    "df=df.drop('frame',axis=1)\n",
    "df['dot']=1.0\n",
    "df['bg']=0\n",
    "\n",
    "pNew=\".\\\\trajectories\\\\CLstationary_test.csv\"\n",
    "df.to_csv(pNew,index=None,header=None)\n",
    "\n",
    "df.head()"
   ]
  },
  {
   "cell_type": "code",
   "execution_count": null,
   "metadata": {},
   "outputs": [],
   "source": [
    "trajectories_15WellPlate_shoalGrateLoom"
   ]
  }
 ],
 "metadata": {
  "kernelspec": {
   "display_name": "Python 3",
   "language": "python",
   "name": "python3"
  },
  "language_info": {
   "codemirror_mode": {
    "name": "ipython",
    "version": 3
   },
   "file_extension": ".py",
   "mimetype": "text/x-python",
   "name": "python",
   "nbconvert_exporter": "python",
   "pygments_lexer": "ipython3",
   "version": "3.7.6"
  }
 },
 "nbformat": 4,
 "nbformat_minor": 4
}
