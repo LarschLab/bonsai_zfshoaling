{
 "cells": [
  {
   "cell_type": "code",
   "execution_count": null,
   "metadata": {},
   "outputs": [],
   "source": [
    "\n",
    "import numpy as np\n",
    "import pandas as pd\n",
    "import matplotlib.pyplot as plt\n",
    "import seaborn as sns\n",
    "import glob"
   ]
  },
  {
   "cell_type": "code",
   "execution_count": null,
   "metadata": {},
   "outputs": [],
   "source": [
    "p=\".\\\\trajectories\\\\KnotTrajectory_6Sizes.csv\""
   ]
  },
  {
   "cell_type": "code",
   "execution_count": null,
   "metadata": {},
   "outputs": [],
   "source": [
    "df3=pd.read_csv(p,header=None,names=['episode','x','y','size','dot','bg'])\n",
    "df3.head()"
   ]
  },
  {
   "cell_type": "code",
   "execution_count": null,
   "metadata": {},
   "outputs": [],
   "source": [
    "plt.scatter(df.x,df.y)"
   ]
  },
  {
   "cell_type": "code",
   "execution_count": null,
   "metadata": {},
   "outputs": [],
   "source": [
    "print(df.x.min(), df.x.max(),np.ptp(df.x))"
   ]
  },
  {
   "cell_type": "code",
   "execution_count": null,
   "metadata": {},
   "outputs": [],
   "source": [
    "radius=190\n",
    "pxPmm=190/50.\n",
    "print(pxPmm)"
   ]
  },
  {
   "cell_type": "code",
   "execution_count": null,
   "metadata": {},
   "outputs": [],
   "source": [
    "df=pd.read_csv(p,header=None,names=['episode','x','y','size','dot','bg'])\n",
    "df.x=(df.x-df.x.min()-np.ptp(df.x)/2)/pxPmm\n",
    "df.y=(df.y-df.y.min()-np.ptp(df.y)/2)/pxPmm\n",
    "plt.scatter(df.x,df.y)"
   ]
  },
  {
   "cell_type": "code",
   "execution_count": null,
   "metadata": {},
   "outputs": [],
   "source": [
    "pNew=\".\\\\trajectories\\\\KnotTrajectory_6Sizes_abs.csv\"\n",
    "df.to_csv(pNew,index=None,header=None)"
   ]
  },
  {
   "cell_type": "code",
   "execution_count": null,
   "metadata": {},
   "outputs": [],
   "source": []
  },
  {
   "cell_type": "code",
   "execution_count": null,
   "metadata": {},
   "outputs": [],
   "source": []
  },
  {
   "cell_type": "code",
   "execution_count": null,
   "metadata": {},
   "outputs": [],
   "source": [
    "p2=\"E:\\\\00_bonsai_ffmpeg_out\\\\trajectories\\\\trajectories_15WellPlate_shoalGrateLoom.csv\""
   ]
  },
  {
   "cell_type": "code",
   "execution_count": null,
   "metadata": {},
   "outputs": [],
   "source": [
    "df=pd.read_csv(p2,header=None,names=['episode','x','y','size','dot','bg'])"
   ]
  },
  {
   "cell_type": "code",
   "execution_count": null,
   "metadata": {},
   "outputs": [],
   "source": [
    "minix=df.x[df.x>50].min()\n",
    "miniy=df.y[df.y>0].min()\n",
    "\n",
    "\n",
    "\n",
    "df.x=(df.x-minix-np.ptp(df3.x)/2)/pxPmm\n",
    "df.y=(df.y-miniy-np.ptp(df3.y)/2)/pxPmm\n",
    "plt.scatter(df.x,df.y)\n",
    "\n",
    "pNew=\"E:\\\\00_bonsai_ffmpeg_out\\\\trajectories\\\\trajectories_15WellPlate_shoalGrateLoomAbs.csv\"\n",
    "df.to_csv(pNew,index=None,header=None)"
   ]
  },
  {
   "cell_type": "code",
   "execution_count": null,
   "metadata": {},
   "outputs": [],
   "source": [
    "episodeNames=np.array(['CLfull004Lf','CLfull004Rf','CLfull000Lc','CLfull000Rc','CLfull004Lc','CLfull004Rc'])\n",
    "epiLen=300\n",
    "dist=18\n",
    "\n",
    "xAll=np.repeat(dist,epiLen)\n",
    "\n",
    "df=pd.DataFrame()\n",
    "epiAll=np.repeat(episodeNames,epiLen)\n",
    "df['episode']=epiAll\n",
    "df['x']=-dist\n",
    "df['y']=0.0\n",
    "ix=[x[-2]=='R' for x in df.episode.values]\n",
    "df.loc[ix,'x']*=-1\n",
    "\n",
    "df['size']=4\n",
    "ix=[x[-3]=='0' for x in df.episode.values]\n",
    "df.loc[ix,'size']=0\n",
    "df['frame']=np.tile(np.arange(epiLen),6)\n",
    "\n",
    "ix=[x[-1]=='f' for x in df.episode.values]\n",
    "ix2=df.frame%20>4\n",
    "\n",
    "df.loc[(ix&ix2),'size']=0\n",
    "\n",
    "df.head(30)\n",
    "df=df.drop('frame',axis=1)\n",
    "df['dot']=1.0\n",
    "df['bg']=0\n",
    "\n",
    "pNew=\".\\\\trajectories\\\\CLstationary_test.csv\"\n",
    "df.to_csv(pNew,index=None,header=None)\n",
    "\n",
    "df.head()"
   ]
  },
  {
   "cell_type": "code",
   "execution_count": null,
   "metadata": {},
   "outputs": [],
   "source": [
    "trajectories_15WellPlate_shoalGrateLoom"
   ]
  }
 ],
 "metadata": {
  "kernelspec": {
   "display_name": "Python 3",
   "language": "python",
   "name": "python3"
  },
  "language_info": {
   "codemirror_mode": {
    "name": "ipython",
    "version": 3
   },
   "file_extension": ".py",
   "mimetype": "text/x-python",
   "name": "python",
   "nbconvert_exporter": "python",
   "pygments_lexer": "ipython3",
   "version": "3.7.6"
  }
 },
 "nbformat": 4,
 "nbformat_minor": 4
}
